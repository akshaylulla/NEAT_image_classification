{
 "cells": [
  {
   "cell_type": "code",
   "execution_count": 2,
   "id": "a4ce4879",
   "metadata": {},
   "outputs": [],
   "source": [
    "# https://becominghuman.ai/constructing-a-cnn-network-for-dogs-and-cats-dataset-4c76b475e435\n",
    "import cv2\n",
    "import numpy as np\n",
    "import os  \n",
    "from random import shuffle \n",
    "from tqdm import tqdm"
   ]
  },
  {
   "cell_type": "code",
   "execution_count": 29,
   "id": "4b15672d",
   "metadata": {},
   "outputs": [],
   "source": [
    "# images dir \n",
    "IMG_SIZE = 100\n",
    "images_dir = 'dogs-vs-cats/train'\n",
    "# function that looks at file name to check whether it's a dog or cat in training data\n",
    "def label_img(img):\n",
    "    word_label = img.split('.')[-3]\n",
    "    # conversion to single number\n",
    "    # can optionally make it a conversion to one-hot array by returning [1,0] or [0,1]\n",
    "    #  1 = cat\n",
    "    if word_label == 'cat': return 1\n",
    "    #  0 = dog\n",
    "    elif word_label == 'dog': return 0\n",
    "# creates training data (converts images to grayscale)\n",
    "def process_data():\n",
    "    my_data = []\n",
    "    my_result = []\n",
    "    # loop through images in training data directory\n",
    "    for img in tqdm(os.listdir(images_dir)):\n",
    "        # set the label for the pixel data - either 1 (cat) or 0 (dog)\n",
    "        label = label_img(img)\n",
    "        # get training data image\n",
    "        path = os.path.join(images_dir,img)\n",
    "        img = cv2.imread(path)\n",
    "        gray = cv2.cvtColor(img, cv2.COLOR_BGR2GRAY)\n",
    "        gray = cv2.resize(gray, (IMG_SIZE,IMG_SIZE))\n",
    "        # uncomment the line below this if you want the image pixels in 1-d\n",
    "        #gray = gray.flatten()\n",
    "        my_data.append(np.array(gray))\n",
    "        my_result.append(label)\n",
    "    np.save('my_data.npy', my_data)\n",
    "    np.save('my_result.npy', my_result)\n",
    "    return my_data, my_result"
   ]
  },
  {
   "cell_type": "code",
   "execution_count": 30,
   "id": "ff2009ee",
   "metadata": {},
   "outputs": [
    {
     "name": "stderr",
     "output_type": "stream",
     "text": [
      "100%|██████████| 25000/25000 [00:26<00:00, 926.30it/s]\n"
     ]
    }
   ],
   "source": [
    "X, y = process_data()"
   ]
  },
  {
   "cell_type": "code",
   "execution_count": 39,
   "id": "7d5b0b04",
   "metadata": {},
   "outputs": [],
   "source": [
    "X = np.array(X)\n",
    "X = X/255.\n",
    "# https://machinelearningmastery.com/how-to-manually-scale-image-pixel-data-for-deep-learning/\n",
    "# Global Centering -  We can test our model both ways - centering before and centering after dividing by 255 (normalization)\n",
    "mean_X = np.mean(X)\n",
    "std_X = np.std(X)"
   ]
  },
  {
   "cell_type": "code",
   "execution_count": 40,
   "id": "c895d879",
   "metadata": {},
   "outputs": [],
   "source": [
    "X = (X - mean_X)/std_X"
   ]
  },
  {
   "cell_type": "code",
   "execution_count": 42,
   "id": "a75812d2",
   "metadata": {},
   "outputs": [],
   "source": [
    "from sklearn.model_selection import train_test_split"
   ]
  },
  {
   "cell_type": "code",
   "execution_count": 43,
   "id": "66b80d80",
   "metadata": {},
   "outputs": [],
   "source": [
    "X_train, X_test, y_train, y_test = train_test_split(X, y, train_size=(2/3), random_state=0)"
   ]
  },
  {
   "cell_type": "code",
   "execution_count": 44,
   "id": "79a79e32",
   "metadata": {},
   "outputs": [
    {
     "name": "stdout",
     "output_type": "stream",
     "text": [
      "(16666, 100, 100)\n",
      "(16666,)\n",
      "(8334, 100, 100)\n",
      "(8334,)\n"
     ]
    }
   ],
   "source": [
    "print(X_train.shape)\n",
    "print(np.array(y_train).shape)\n",
    "print(X_test.shape)\n",
    "print(np.array(y_test).shape)"
   ]
  },
  {
   "cell_type": "code",
   "execution_count": 46,
   "id": "a72ec790",
   "metadata": {},
   "outputs": [],
   "source": [
    "# get a sample of 100 points from training data\n",
    "import random\n",
    "train_data = []\n",
    "# generate 100 random numbers between 0 and number of training samples\n",
    "# look into using xrange instead of range\n",
    "random_100 = random.sample(range(1, len(y_train)), 100)\n",
    "for num in random_100:\n",
    "    train_data.append((X_train[num], y_train[num])) "
   ]
  },
  {
   "cell_type": "code",
   "execution_count": 47,
   "id": "4b961846",
   "metadata": {},
   "outputs": [
    {
     "name": "stdout",
     "output_type": "stream",
     "text": [
      "(array([[ 0.36623237,  0.38181874,  0.38181874, ..., -0.42867289,\n",
      "        -0.4910184 , -0.45984564],\n",
      "       [ 0.4129915 ,  0.39740512,  0.36623237, ..., -0.16370447,\n",
      "        -0.11694534,  0.00774568],\n",
      "       [ 0.44416425,  0.4129915 ,  0.36623237, ...,  0.21036859,\n",
      "         0.25712772,  0.05450482],\n",
      "       ...,\n",
      "       [ 0.17919584,  0.53768252,  0.42857788, ...,  0.30388686,\n",
      "         0.21036859,  0.19478221],\n",
      "       [-0.07018621,  0.1324367 ,  0.25712772, ...,  0.19478221,\n",
      "         0.30388686,  0.14802308],\n",
      "       [-0.07018621,  0.31947323,  0.36623237, ...,  0.17919584,\n",
      "         0.31947323,  0.1324367 ]]), 1)\n"
     ]
    }
   ],
   "source": [
    "print(train_data[0])"
   ]
  },
  {
   "cell_type": "code",
   "execution_count": null,
   "id": "b1314001",
   "metadata": {},
   "outputs": [],
   "source": []
  }
 ],
 "metadata": {
  "kernelspec": {
   "display_name": "Python 3",
   "language": "python",
   "name": "python3"
  },
  "language_info": {
   "codemirror_mode": {
    "name": "ipython",
    "version": 3
   },
   "file_extension": ".py",
   "mimetype": "text/x-python",
   "name": "python",
   "nbconvert_exporter": "python",
   "pygments_lexer": "ipython3",
   "version": "3.8.10"
  }
 },
 "nbformat": 4,
 "nbformat_minor": 5
}
