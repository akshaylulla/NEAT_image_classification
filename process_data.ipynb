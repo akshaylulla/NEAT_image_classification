{
 "cells": [
  {
   "cell_type": "code",
   "execution_count": 2,
   "id": "a4ce4879",
   "metadata": {},
   "outputs": [],
   "source": [
    "# https://becominghuman.ai/constructing-a-cnn-network-for-dogs-and-cats-dataset-4c76b475e435\n",
    "import cv2\n",
    "import numpy as np\n",
    "import os  \n",
    "from random import shuffle \n",
    "from tqdm import tqdm"
   ]
  },
  {
   "cell_type": "code",
   "execution_count": 29,
   "id": "4b15672d",
   "metadata": {},
   "outputs": [],
   "source": [
    "# images dir \n",
    "IMG_SIZE = 100\n",
    "images_dir = 'dogs-vs-cats/train'\n",
    "# function that looks at file name to check whether it's a dog or cat in training data\n",
    "def label_img(img):\n",
    "    word_label = img.split('.')[-3]\n",
    "    # conversion to one-hot array [cat,dog]\n",
    "    #  [much cat, no dog]\n",
    "    if word_label == 'cat': return 1\n",
    "    #  [no cat, very doggo]\n",
    "    elif word_label == 'dog': return 0\n",
    "# creates training data (converts images to grayscale)\n",
    "def process_data():\n",
    "    my_data = []\n",
    "    my_result = []\n",
    "    # loop through images in training data directory\n",
    "    for img in tqdm(os.listdir(images_dir)):\n",
    "        # set the label for the pixel data - either 1 (cat) or 0 (dog)\n",
    "        label = label_img(img)\n",
    "        # get training data image\n",
    "        path = os.path.join(images_dir,img)\n",
    "        img = cv2.imread(path)\n",
    "        gray = cv2.cvtColor(img, cv2.COLOR_BGR2GRAY)\n",
    "        gray = cv2.resize(gray, (IMG_SIZE,IMG_SIZE))\n",
    "        # uncomment the line below this if you want the image pixels in 1-d\n",
    "        #gray = gray.flatten()\n",
    "        my_data.append(np.array(gray))\n",
    "        my_result.append(label)\n",
    "    np.save('my_data.npy', my_data)\n",
    "    np.save('my_result.npy', my_result)\n",
    "    return my_data, my_result"
   ]
  },
  {
   "cell_type": "code",
   "execution_count": 30,
   "id": "ff2009ee",
   "metadata": {},
   "outputs": [
    {
     "name": "stderr",
     "output_type": "stream",
     "text": [
      "100%|██████████| 25000/25000 [00:26<00:00, 926.30it/s]\n"
     ]
    }
   ],
   "source": [
    "X, y = process_data()"
   ]
  },
  {
   "cell_type": "code",
   "execution_count": 39,
   "id": "81b3902d",
   "metadata": {},
   "outputs": [],
   "source": [
    "X = np.array(X)\n",
    "X = X/255.\n",
    "# https://machinelearningmastery.com/how-to-manually-scale-image-pixel-data-for-deep-learning/\n",
    "# Global Centering -  We can test our model both ways - centering before and centering after dividing by 255 (normalization)\n",
    "mean_X = np.mean(X)\n",
    "std_X = np.std(X)"
   ]
  },
  {
   "cell_type": "code",
   "execution_count": 40,
   "id": "7770835f",
   "metadata": {},
   "outputs": [],
   "source": [
    "X = (X - mean_X)/std_X"
   ]
  },
  {
   "cell_type": "code",
   "execution_count": 42,
   "id": "bb883b7d",
   "metadata": {},
   "outputs": [],
   "source": [
    "from sklearn.model_selection import train_test_split"
   ]
  },
  {
   "cell_type": "code",
   "execution_count": 43,
   "id": "d3da3680",
   "metadata": {},
   "outputs": [],
   "source": [
    "X_train, X_test, y_train, y_test = train_test_split(X, y, train_size=(2/3), random_state=0)"
   ]
  },
  {
   "cell_type": "code",
   "execution_count": 44,
   "id": "908af62c",
   "metadata": {},
   "outputs": [
    {
     "name": "stdout",
     "output_type": "stream",
     "text": [
      "(16666, 100, 100)\n",
      "(16666,)\n",
      "(8334, 100, 100)\n",
      "(8334,)\n"
     ]
    }
   ],
   "source": [
    "print(X_train.shape)\n",
    "print(np.array(y_train).shape)\n",
    "print(X_test.shape)\n",
    "print(np.array(y_test).shape)"
   ]
  },
  {
   "cell_type": "code",
   "execution_count": null,
   "id": "4f1f2b7e",
   "metadata": {},
   "outputs": [],
   "source": []
  }
 ],
 "metadata": {
  "kernelspec": {
   "display_name": "Python 3",
   "language": "python",
   "name": "python3"
  },
  "language_info": {
   "codemirror_mode": {
    "name": "ipython",
    "version": 3
   },
   "file_extension": ".py",
   "mimetype": "text/x-python",
   "name": "python",
   "nbconvert_exporter": "python",
   "pygments_lexer": "ipython3",
   "version": "3.8.10"
  }
 },
 "nbformat": 4,
 "nbformat_minor": 5
}
