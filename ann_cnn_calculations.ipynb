{
 "cells": [
  {
   "cell_type": "code",
   "execution_count": 30,
   "id": "054d83f8",
   "metadata": {},
   "outputs": [],
   "source": [
    "import tensorflow"
   ]
  },
  {
   "cell_type": "code",
   "execution_count": 31,
   "id": "d1f69273",
   "metadata": {},
   "outputs": [],
   "source": [
    "import cv2 \n",
    "import numpy as np\n",
    "import os\n",
    "from random import shuffle\n",
    "from tqdm import tqdm\n",
    "from sklearn.model_selection import train_test_split"
   ]
  },
  {
   "cell_type": "code",
   "execution_count": 47,
   "id": "ccdc453e",
   "metadata": {},
   "outputs": [],
   "source": [
    "# images dir \n",
    "IMG_SIZE = 32\n",
    "images_dir = 'train'\n",
    "# function that looks at file name to check whether it's a dog or cat in training data\n",
    "def label_img(img):\n",
    "    word_label = img.split('.')[-3]\n",
    "    # conversion to one-hot array [cat,dog]\n",
    "    #  [much cat, no dog]\n",
    "    if word_label == 'cat': return 1\n",
    "    #  [no cat, very doggo]\n",
    "    elif word_label == 'dog': return 0\n",
    "# creates training data (converts images to grayscale)\n",
    "def process_data():\n",
    "    my_data = []\n",
    "    my_result = []\n",
    "    # loop through images in training data directory\n",
    "    for img in tqdm(os.listdir(images_dir)):\n",
    "        # set the label for the pixel data - either 1 (cat) or 0 (dog)\n",
    "        label = label_img(img)\n",
    "        # get training data image\n",
    "        path = os.path.join(images_dir,img)\n",
    "        img = cv2.imread(path)\n",
    "        #gray = cv2.cvtColor(img, cv2.COLOR_BGR2GRAY)\n",
    "        gray = cv2.resize(img, (IMG_SIZE,IMG_SIZE))\n",
    "        #gray = gray.flatten()\n",
    "        my_data.append(np.array(gray))\n",
    "        my_result.append(label)\n",
    "    np.save('my_data.npy', my_data)\n",
    "    np.save('my_result.npy', my_result)\n",
    "    return my_data, my_result"
   ]
  },
  {
   "cell_type": "code",
   "execution_count": 48,
   "id": "803a7c39",
   "metadata": {},
   "outputs": [
    {
     "name": "stderr",
     "output_type": "stream",
     "text": [
      "100%|██████████| 25000/25000 [01:59<00:00, 209.75it/s]\n"
     ]
    }
   ],
   "source": [
    "X, y = process_data()"
   ]
  },
  {
   "cell_type": "code",
   "execution_count": 49,
   "id": "0ec42737",
   "metadata": {},
   "outputs": [],
   "source": [
    "X = np.array(X)\n",
    "X = X/255."
   ]
  },
  {
   "cell_type": "code",
   "execution_count": 50,
   "id": "7d9205d0",
   "metadata": {},
   "outputs": [],
   "source": [
    "# https://machinelearningmastery.com/how-to-manually-scale-image-pixel-data-for-deep-learning/\n",
    "# Global Centering -  We can test our model both ways - centering before and centering after dividing by 255 (normalization)\n",
    "mean_X = np.mean(X)\n",
    "std_X = np.std(X)\n",
    "X = (X - mean_X)/std_X"
   ]
  },
  {
   "cell_type": "code",
   "execution_count": 51,
   "id": "e4fb6b95",
   "metadata": {},
   "outputs": [],
   "source": [
    "X_train, X_test, y_train, y_test = train_test_split(X, y, train_size=(3/4), random_state=0)\n"
   ]
  },
  {
   "cell_type": "code",
   "execution_count": 77,
   "id": "f2e29eb5",
   "metadata": {},
   "outputs": [],
   "source": [
    "from tensorflow.keras import layers, models\n"
   ]
  },
  {
   "cell_type": "code",
   "execution_count": 94,
   "id": "97ff8d1e",
   "metadata": {},
   "outputs": [],
   "source": [
    "# https://www.youtube.com/watch?v=7HPwo4wnJeA&t=349s\n",
    "ann = models.Sequential([\n",
    "        layers.Flatten(input_shape=(32,32,3)),\n",
    "        layers.Dense(1000, activation='relu'),\n",
    "        layers.Dense(300, activation='relu'),\n",
    "        layers.Dense(50, activation='relu'),\n",
    "        layers.Dense(10, activation='relu'),\n",
    "        layers.Dense(2, activation='softmax')    \n",
    "    ])\n",
    "\n",
    "ann.compile(optimizer='SGD',\n",
    "              loss='sparse_categorical_crossentropy',\n",
    "              metrics=['accuracy'])"
   ]
  },
  {
   "cell_type": "code",
   "execution_count": 95,
   "id": "6b583ecf",
   "metadata": {
    "scrolled": true
   },
   "outputs": [
    {
     "name": "stdout",
     "output_type": "stream",
     "text": [
      "(18750, 32, 32, 3)\n",
      "(18750,)\n"
     ]
    }
   ],
   "source": [
    "print(np.array(X_train).shape)\n",
    "print(np.array(y_train).shape)"
   ]
  },
  {
   "cell_type": "code",
   "execution_count": 96,
   "id": "1c403b9c",
   "metadata": {},
   "outputs": [
    {
     "name": "stdout",
     "output_type": "stream",
     "text": [
      "Epoch 1/10\n",
      "586/586 [==============================] - 15s 23ms/step - loss: 0.6637 - accuracy: 0.5956\n",
      "Epoch 2/10\n",
      "586/586 [==============================] - 12s 20ms/step - loss: 0.5977 - accuracy: 0.6714\n",
      "Epoch 3/10\n",
      "586/586 [==============================] - 12s 20ms/step - loss: 0.5385 - accuracy: 0.7248\n",
      "Epoch 4/10\n",
      "586/586 [==============================] - 12s 20ms/step - loss: 0.4783 - accuracy: 0.7698\n",
      "Epoch 5/10\n",
      "586/586 [==============================] - 11s 20ms/step - loss: 0.4134 - accuracy: 0.8105\n",
      "Epoch 6/10\n",
      "586/586 [==============================] - 12s 20ms/step - loss: 0.3481 - accuracy: 0.8486\n",
      "Epoch 7/10\n",
      "586/586 [==============================] - 12s 21ms/step - loss: 0.2963 - accuracy: 0.8753\n",
      "Epoch 8/10\n",
      "586/586 [==============================] - 12s 20ms/step - loss: 0.2462 - accuracy: 0.8981\n",
      "Epoch 9/10\n",
      "586/586 [==============================] - 12s 21ms/step - loss: 0.2034 - accuracy: 0.9191\n",
      "Epoch 10/10\n",
      "586/586 [==============================] - 13s 21ms/step - loss: 0.1799 - accuracy: 0.9295\n"
     ]
    },
    {
     "data": {
      "text/plain": [
       "<tensorflow.python.keras.callbacks.History at 0x7ff6e9118dc0>"
      ]
     },
     "execution_count": 96,
     "metadata": {},
     "output_type": "execute_result"
    }
   ],
   "source": [
    "ann.fit(np.array(X_train), np.array(y_train), epochs=10)\n"
   ]
  },
  {
   "cell_type": "code",
   "execution_count": 99,
   "id": "45db84a5",
   "metadata": {},
   "outputs": [],
   "source": [
    "predict_ann = ann.predict(X_test)\n",
    "predict_ann_one = []\n",
    "for outcome in predict_ann:\n",
    "    if outcome[0] > outcome[1]:\n",
    "        predict_ann_one.append(0)\n",
    "    else:\n",
    "        predict_ann_one.append(1)"
   ]
  },
  {
   "cell_type": "code",
   "execution_count": 103,
   "id": "4747d5ed",
   "metadata": {},
   "outputs": [
    {
     "name": "stdout",
     "output_type": "stream",
     "text": [
      "64.96577473553205%\n",
      "67.18146718146718%\n",
      "66.05504587155963%\n",
      "65.664%\n"
     ]
    }
   ],
   "source": [
    "truePositives = 0\n",
    "trueNegatives = 0\n",
    "falsePositives = 0\n",
    "falseNegatives = 0\n",
    "\n",
    "m = 0\n",
    "for m in range(len(predict_ann_one)):\n",
    "    if predict_ann_one[m] == y_test[m] and predict_ann_one[m] == 1:\n",
    "        truePositives += 1\n",
    "    elif predict_ann_one[m] == y_test[m] and predict_ann_one[m] == 0:\n",
    "        trueNegatives += 1\n",
    "    elif predict_ann_one[m] != y_test[m] and predict_ann_one[m] == 1:\n",
    "        falsePositives += 1\n",
    "    elif predict_ann_one[m] != y_test[m] and predict_ann_one[m] == 0:\n",
    "        falseNegatives += 1\n",
    "\n",
    "precisionPercent = truePositives*100/(truePositives+falsePositives)\n",
    "print(str(precisionPercent) + \"%\")\n",
    "recallPercent = truePositives*100/(truePositives+falseNegatives)\n",
    "print(str(recallPercent) + \"%\")\n",
    "fMeasure = 2*precisionPercent*recallPercent/(precisionPercent+recallPercent)\n",
    "print(str(fMeasure) + \"%\")\n",
    "accuracy = (truePositives+trueNegatives)*100/len(predict_ann_one)\n",
    "print(str(accuracy) + \"%\")"
   ]
  },
  {
   "cell_type": "code",
   "execution_count": 104,
   "id": "dd32cc4d",
   "metadata": {},
   "outputs": [
    {
     "name": "stdout",
     "output_type": "stream",
     "text": [
      "196/196 [==============================] - 2s 9ms/step - loss: 0.9567 - accuracy: 0.6566\n"
     ]
    }
   ],
   "source": [
    "results = ann.evaluate(X_test, np.array(y_test))"
   ]
  },
  {
   "cell_type": "code",
   "execution_count": 105,
   "id": "c1722d53",
   "metadata": {},
   "outputs": [],
   "source": [
    "cnn = models.Sequential([\n",
    "    layers.Conv2D(filters=32, kernel_size=(3, 3), activation='relu', input_shape=(32, 32, 3)),\n",
    "    layers.MaxPooling2D((2, 2)),\n",
    "    \n",
    "    layers.Conv2D(filters=64, kernel_size=(3, 3), activation='relu'),\n",
    "    layers.MaxPooling2D((2, 2)),\n",
    "    \n",
    "    layers.Flatten(),\n",
    "    layers.Dense(64, activation='relu'),\n",
    "    layers.Dense(2, activation='softmax')\n",
    "])\n",
    "cnn.compile(optimizer='adam',\n",
    "              loss='sparse_categorical_crossentropy',\n",
    "              metrics=['accuracy'])\n"
   ]
  },
  {
   "cell_type": "code",
   "execution_count": 106,
   "id": "f346ac64",
   "metadata": {},
   "outputs": [
    {
     "name": "stdout",
     "output_type": "stream",
     "text": [
      "Epoch 1/10\n",
      "586/586 [==============================] - 25s 42ms/step - loss: 0.6017 - accuracy: 0.6663\n",
      "Epoch 2/10\n",
      "586/586 [==============================] - 20s 35ms/step - loss: 0.5050 - accuracy: 0.7557\n",
      "Epoch 3/10\n",
      "586/586 [==============================] - 18s 31ms/step - loss: 0.4563 - accuracy: 0.7835\n",
      "Epoch 4/10\n",
      "586/586 [==============================] - 20s 34ms/step - loss: 0.4174 - accuracy: 0.8061\n",
      "Epoch 5/10\n",
      "586/586 [==============================] - 19s 32ms/step - loss: 0.3818 - accuracy: 0.8282\n",
      "Epoch 6/10\n",
      "586/586 [==============================] - 17s 30ms/step - loss: 0.3374 - accuracy: 0.8531\n",
      "Epoch 7/10\n",
      "586/586 [==============================] - 18s 31ms/step - loss: 0.3025 - accuracy: 0.8669\n",
      "Epoch 8/10\n",
      "586/586 [==============================] - 18s 31ms/step - loss: 0.2502 - accuracy: 0.8957\n",
      "Epoch 9/10\n",
      "586/586 [==============================] - 18s 30ms/step - loss: 0.2027 - accuracy: 0.9175\n",
      "Epoch 10/10\n",
      "586/586 [==============================] - 18s 30ms/step - loss: 0.1533 - accuracy: 0.9388\n"
     ]
    },
    {
     "data": {
      "text/plain": [
       "<tensorflow.python.keras.callbacks.History at 0x7ff6e955dd90>"
      ]
     },
     "execution_count": 106,
     "metadata": {},
     "output_type": "execute_result"
    }
   ],
   "source": [
    "cnn.fit(X_train, np.array(y_train), epochs=10)\n"
   ]
  },
  {
   "cell_type": "code",
   "execution_count": 107,
   "id": "4b0c2821",
   "metadata": {},
   "outputs": [
    {
     "name": "stdout",
     "output_type": "stream",
     "text": [
      "196/196 [==============================] - 2s 11ms/step - loss: 0.5988 - accuracy: 0.8003\n"
     ]
    }
   ],
   "source": [
    "cnn_results = cnn.evaluate(X_test, np.array(y_test))"
   ]
  },
  {
   "cell_type": "code",
   "execution_count": 108,
   "id": "d2ed13a6",
   "metadata": {},
   "outputs": [],
   "source": [
    "predict_cnn = cnn.predict(X_test) "
   ]
  },
  {
   "cell_type": "code",
   "execution_count": 109,
   "id": "a1853a9e",
   "metadata": {},
   "outputs": [],
   "source": [
    "predict_cnn_one = []\n",
    "for outcome in predict_cnn:\n",
    "    if outcome[0] > outcome[1]:\n",
    "        predict_cnn_one.append(0)\n",
    "    else:\n",
    "        predict_cnn_one.append(1)"
   ]
  },
  {
   "cell_type": "code",
   "execution_count": 110,
   "id": "d104b2eb",
   "metadata": {},
   "outputs": [
    {
     "name": "stdout",
     "output_type": "stream",
     "text": [
      "81.84931506849315%\n",
      "76.8983268983269%\n",
      "79.29661579296616%\n",
      "80.032%\n"
     ]
    }
   ],
   "source": [
    "truePositives = 0\n",
    "trueNegatives = 0\n",
    "falsePositives = 0\n",
    "falseNegatives = 0\n",
    "\n",
    "m = 0\n",
    "for m in range(len(predict_cnn_one)):\n",
    "    if predict_cnn_one[m] == y_test[m] and predict_cnn_one[m] == 1:\n",
    "        truePositives += 1\n",
    "    elif predict_cnn_one[m] == y_test[m] and predict_cnn_one[m] == 0:\n",
    "        trueNegatives += 1\n",
    "    elif predict_cnn_one[m] != y_test[m] and predict_cnn_one[m] == 1:\n",
    "        falsePositives += 1\n",
    "    elif predict_cnn_one[m] != y_test[m] and predict_cnn_one[m] == 0:\n",
    "        falseNegatives += 1\n",
    "\n",
    "precisionPercent = truePositives*100/(truePositives+falsePositives)\n",
    "print(str(precisionPercent) + \"%\")\n",
    "recallPercent = truePositives*100/(truePositives+falseNegatives)\n",
    "print(str(recallPercent) + \"%\")\n",
    "fMeasure = 2*precisionPercent*recallPercent/(precisionPercent+recallPercent)\n",
    "print(str(fMeasure) + \"%\")\n",
    "accuracy = (truePositives+trueNegatives)*100/len(predict_cnn_one)\n",
    "print(str(accuracy) + \"%\")"
   ]
  },
  {
   "cell_type": "code",
   "execution_count": 115,
   "id": "33dddfef",
   "metadata": {},
   "outputs": [],
   "source": [
    "ann_2 = models.Sequential([\n",
    "        layers.Flatten(input_shape=(32,32,3)),\n",
    "        layers.Dense(100, activation='relu'),\n",
    "        layers.Dense(2, activation='softmax')    \n",
    "    ])\n",
    "\n",
    "ann_2.compile(optimizer='SGD',\n",
    "              loss='sparse_categorical_crossentropy',\n",
    "              metrics=['accuracy'])"
   ]
  },
  {
   "cell_type": "code",
   "execution_count": 116,
   "id": "dd065ffe",
   "metadata": {},
   "outputs": [
    {
     "name": "stdout",
     "output_type": "stream",
     "text": [
      "Epoch 1/10\n",
      "586/586 [==============================] - 3s 4ms/step - loss: 0.7009 - accuracy: 0.6020\n",
      "Epoch 2/10\n",
      "586/586 [==============================] - 3s 4ms/step - loss: 0.5960 - accuracy: 0.6735\n",
      "Epoch 3/10\n",
      "586/586 [==============================] - 3s 5ms/step - loss: 0.5633 - accuracy: 0.7091\n",
      "Epoch 4/10\n",
      "586/586 [==============================] - 2s 4ms/step - loss: 0.5361 - accuracy: 0.7285\n",
      "Epoch 5/10\n",
      "586/586 [==============================] - 3s 5ms/step - loss: 0.5098 - accuracy: 0.7522\n",
      "Epoch 6/10\n",
      "586/586 [==============================] - 2s 4ms/step - loss: 0.4833 - accuracy: 0.7689\n",
      "Epoch 7/10\n",
      "586/586 [==============================] - 3s 5ms/step - loss: 0.4613 - accuracy: 0.7813\n",
      "Epoch 8/10\n",
      "586/586 [==============================] - 3s 5ms/step - loss: 0.4380 - accuracy: 0.7969\n",
      "Epoch 9/10\n",
      "586/586 [==============================] - 3s 5ms/step - loss: 0.4136 - accuracy: 0.8139\n",
      "Epoch 10/10\n",
      "586/586 [==============================] - 2s 4ms/step - loss: 0.3921 - accuracy: 0.8271\n"
     ]
    },
    {
     "data": {
      "text/plain": [
       "<tensorflow.python.keras.callbacks.History at 0x7ff7d3314370>"
      ]
     },
     "execution_count": 116,
     "metadata": {},
     "output_type": "execute_result"
    }
   ],
   "source": [
    "ann_2.fit(np.array(X_train), np.array(y_train), epochs=10)"
   ]
  },
  {
   "cell_type": "code",
   "execution_count": 117,
   "id": "6d236005",
   "metadata": {},
   "outputs": [],
   "source": [
    "predict_ann_2 = ann_2.predict(X_test)\n",
    "predict_ann_2_one = []\n",
    "for outcome in predict_ann_2:\n",
    "    if outcome[0] > outcome[1]:\n",
    "        predict_ann_2_one.append(0)\n",
    "    else:\n",
    "        predict_ann_2_one.append(1)"
   ]
  },
  {
   "cell_type": "code",
   "execution_count": 118,
   "id": "a5d51874",
   "metadata": {},
   "outputs": [
    {
     "name": "stdout",
     "output_type": "stream",
     "text": [
      "65.01913265306122%\n",
      "65.6048906048906%\n",
      "65.31069827033951%\n",
      "65.344%\n"
     ]
    }
   ],
   "source": [
    "truePositives = 0\n",
    "trueNegatives = 0\n",
    "falsePositives = 0\n",
    "falseNegatives = 0\n",
    "\n",
    "m = 0\n",
    "for m in range(len(predict_ann_2_one)):\n",
    "    if predict_ann_2_one[m] == y_test[m] and predict_ann_2_one[m] == 1:\n",
    "        truePositives += 1\n",
    "    elif predict_ann_2_one[m] == y_test[m] and predict_ann_2_one[m] == 0:\n",
    "        trueNegatives += 1\n",
    "    elif predict_ann_2_one[m] != y_test[m] and predict_ann_2_one[m] == 1:\n",
    "        falsePositives += 1\n",
    "    elif predict_ann_2_one[m] != y_test[m] and predict_ann_2_one[m] == 0:\n",
    "        falseNegatives += 1\n",
    "\n",
    "precisionPercent = truePositives*100/(truePositives+falsePositives)\n",
    "print(str(precisionPercent) + \"%\")\n",
    "recallPercent = truePositives*100/(truePositives+falseNegatives)\n",
    "print(str(recallPercent) + \"%\")\n",
    "fMeasure = 2*precisionPercent*recallPercent/(precisionPercent+recallPercent)\n",
    "print(str(fMeasure) + \"%\")\n",
    "accuracy = (truePositives+trueNegatives)*100/len(predict_ann_2_one)\n",
    "print(str(accuracy) + \"%\")"
   ]
  },
  {
   "cell_type": "code",
   "execution_count": 119,
   "id": "33288d32",
   "metadata": {},
   "outputs": [
    {
     "name": "stdout",
     "output_type": "stream",
     "text": [
      "196/196 [==============================] - 1s 3ms/step - loss: 0.7479 - accuracy: 0.6534\n"
     ]
    }
   ],
   "source": [
    "results = ann_2.evaluate(X_test, np.array(y_test))"
   ]
  },
  {
   "cell_type": "code",
   "execution_count": 122,
   "id": "0e219e1a",
   "metadata": {},
   "outputs": [],
   "source": [
    "cnn_5 = models.Sequential([\n",
    "    layers.Conv2D(filters=32, kernel_size=(3, 3), activation='relu', input_shape=(32, 32, 3)),\n",
    "    layers.MaxPooling2D((2, 2)),\n",
    "    \n",
    "    layers.Conv2D(filters=64, kernel_size=(3, 3), activation='relu'),\n",
    "    layers.MaxPooling2D((2, 2)),\n",
    "    \n",
    "    layers.Flatten(),\n",
    "    layers.Dense(1000, activation='relu'),\n",
    "    layers.Dense(300, activation='relu'),\n",
    "    layers.Dense(50, activation='relu'),\n",
    "    layers.Dense(10, activation='relu'),\n",
    "    layers.Dense(2, activation='softmax') \n",
    "])\n",
    "cnn_5.compile(optimizer='adam',\n",
    "              loss='sparse_categorical_crossentropy',\n",
    "              metrics=['accuracy'])"
   ]
  },
  {
   "cell_type": "code",
   "execution_count": 123,
   "id": "78e8da35",
   "metadata": {},
   "outputs": [
    {
     "name": "stdout",
     "output_type": "stream",
     "text": [
      "Epoch 1/10\n",
      "586/586 [==============================] - 39s 64ms/step - loss: 0.6136 - accuracy: 0.6572\n",
      "Epoch 2/10\n",
      "586/586 [==============================] - 37s 64ms/step - loss: 0.5107 - accuracy: 0.7485\n",
      "Epoch 3/10\n",
      "586/586 [==============================] - 39s 66ms/step - loss: 0.4545 - accuracy: 0.7857\n",
      "Epoch 4/10\n",
      "586/586 [==============================] - 38s 66ms/step - loss: 0.3941 - accuracy: 0.8208\n",
      "Epoch 5/10\n",
      "586/586 [==============================] - 38s 65ms/step - loss: 0.3316 - accuracy: 0.8530\n",
      "Epoch 6/10\n",
      "586/586 [==============================] - 39s 66ms/step - loss: 0.2459 - accuracy: 0.8960\n",
      "Epoch 7/10\n",
      "586/586 [==============================] - 38s 65ms/step - loss: 0.1539 - accuracy: 0.9396\n",
      "Epoch 8/10\n",
      "586/586 [==============================] - 38s 64ms/step - loss: 0.0929 - accuracy: 0.9638\n",
      "Epoch 9/10\n",
      "586/586 [==============================] - 38s 65ms/step - loss: 0.0671 - accuracy: 0.9764\n",
      "Epoch 10/10\n",
      "586/586 [==============================] - 39s 67ms/step - loss: 0.0502 - accuracy: 0.9824\n"
     ]
    },
    {
     "data": {
      "text/plain": [
       "<tensorflow.python.keras.callbacks.History at 0x7ff60b9717f0>"
      ]
     },
     "execution_count": 123,
     "metadata": {},
     "output_type": "execute_result"
    }
   ],
   "source": [
    "cnn_5.fit(X_train, np.array(y_train), epochs=10)\n"
   ]
  },
  {
   "cell_type": "code",
   "execution_count": 124,
   "id": "7f20b410",
   "metadata": {},
   "outputs": [
    {
     "name": "stdout",
     "output_type": "stream",
     "text": [
      "196/196 [==============================] - 4s 18ms/step - loss: 1.0302 - accuracy: 0.7789\n"
     ]
    }
   ],
   "source": [
    "cnn_results = cnn_5.evaluate(X_test, np.array(y_test))"
   ]
  },
  {
   "cell_type": "code",
   "execution_count": 127,
   "id": "dcf98d0d",
   "metadata": {},
   "outputs": [],
   "source": [
    "predict_cnn_5 = cnn_5.predict(X_test) "
   ]
  },
  {
   "cell_type": "code",
   "execution_count": 128,
   "id": "fa70f791",
   "metadata": {},
   "outputs": [],
   "source": [
    "predict_cnn_5_one = []\n",
    "for outcome in predict_cnn_5:\n",
    "    if outcome[0] > outcome[1]:\n",
    "        predict_cnn_5_one.append(0)\n",
    "    else:\n",
    "        predict_cnn_5_one.append(1)"
   ]
  },
  {
   "cell_type": "code",
   "execution_count": 129,
   "id": "759ef95c",
   "metadata": {},
   "outputs": [
    {
     "name": "stdout",
     "output_type": "stream",
     "text": [
      "75.76119402985074%\n",
      "81.66023166023166%\n",
      "78.60018581604211%\n",
      "77.888%\n"
     ]
    }
   ],
   "source": [
    "truePositives = 0\n",
    "trueNegatives = 0\n",
    "falsePositives = 0\n",
    "falseNegatives = 0\n",
    "\n",
    "m = 0\n",
    "for m in range(len(predict_cnn_5_one)):\n",
    "    if predict_cnn_5_one[m] == y_test[m] and predict_cnn_5_one[m] == 1:\n",
    "        truePositives += 1\n",
    "    elif predict_cnn_5_one[m] == y_test[m] and predict_cnn_5_one[m] == 0:\n",
    "        trueNegatives += 1\n",
    "    elif predict_cnn_5_one[m] != y_test[m] and predict_cnn_5_one[m] == 1:\n",
    "        falsePositives += 1\n",
    "    elif predict_cnn_5_one[m] != y_test[m] and predict_cnn_5_one[m] == 0:\n",
    "        falseNegatives += 1\n",
    "\n",
    "precisionPercent = truePositives*100/(truePositives+falsePositives)\n",
    "print(str(precisionPercent) + \"%\")\n",
    "recallPercent = truePositives*100/(truePositives+falseNegatives)\n",
    "print(str(recallPercent) + \"%\")\n",
    "fMeasure = 2*precisionPercent*recallPercent/(precisionPercent+recallPercent)\n",
    "print(str(fMeasure) + \"%\")\n",
    "accuracy = (truePositives+trueNegatives)*100/len(predict_cnn_5_one)\n",
    "print(str(accuracy) + \"%\")"
   ]
  },
  {
   "cell_type": "code",
   "execution_count": null,
   "id": "94d644dd",
   "metadata": {},
   "outputs": [],
   "source": []
  }
 ],
 "metadata": {
  "kernelspec": {
   "display_name": "Python 3",
   "language": "python",
   "name": "python3"
  },
  "language_info": {
   "codemirror_mode": {
    "name": "ipython",
    "version": 3
   },
   "file_extension": ".py",
   "mimetype": "text/x-python",
   "name": "python",
   "nbconvert_exporter": "python",
   "pygments_lexer": "ipython3",
   "version": "3.8.6"
  }
 },
 "nbformat": 4,
 "nbformat_minor": 5
}
