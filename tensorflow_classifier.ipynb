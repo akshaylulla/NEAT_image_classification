{
 "cells": [
  {
   "cell_type": "code",
   "execution_count": 19,
   "id": "011f392e",
   "metadata": {},
   "outputs": [],
   "source": [
    "import tensorflow"
   ]
  },
  {
   "cell_type": "code",
   "execution_count": 20,
   "id": "a4ce4879",
   "metadata": {},
   "outputs": [],
   "source": [
    "# https://becominghuman.ai/constructing-a-cnn-network-for-dogs-and-cats-dataset-4c76b475e435\n",
    "import cv2\n",
    "import numpy as np\n",
    "import os  \n",
    "from random import shuffle \n",
    "from tqdm import tqdm"
   ]
  },
  {
   "cell_type": "code",
   "execution_count": 21,
   "id": "4b15672d",
   "metadata": {},
   "outputs": [],
   "source": [
    "# images dir \n",
    "IMG_SIZE = 100\n",
    "images_dir = 'dogs-vs-cats/train'\n",
    "# function that looks at file name to check whether it's a dog or cat in training data\n",
    "def label_img(img):\n",
    "    word_label = img.split('.')[-3]\n",
    "    # conversion to one-hot array [cat,dog]\n",
    "    #  [much cat, no dog]\n",
    "    if word_label == 'cat': return 1\n",
    "    #  [no cat, very doggo]\n",
    "    elif word_label == 'dog': return 0\n",
    "# creates training data (converts images to grayscale)\n",
    "def process_data():\n",
    "    my_data = []\n",
    "    my_result = []\n",
    "    # loop through images in training data directory\n",
    "    for img in tqdm(os.listdir(images_dir)):\n",
    "        # set the label for the pixel data - either 1 (cat) or 0 (dog)\n",
    "        label = label_img(img)\n",
    "        # get training data image\n",
    "        path = os.path.join(images_dir,img)\n",
    "        img = cv2.imread(path)\n",
    "        #gray = cv2.cvtColor(img, cv2.COLOR_BGR2GRAY)\n",
    "        gray = cv2.resize(img, (IMG_SIZE,IMG_SIZE))\n",
    "        #gray = gray.flatten()\n",
    "        my_data.append(np.array(gray))\n",
    "        my_result.append(label)\n",
    "    np.save('my_data.npy', my_data)\n",
    "    np.save('my_result.npy', my_result)\n",
    "    return my_data, my_result"
   ]
  },
  {
   "cell_type": "code",
   "execution_count": 22,
   "id": "ff2009ee",
   "metadata": {},
   "outputs": [
    {
     "name": "stderr",
     "output_type": "stream",
     "text": [
      "100%|██████████| 25000/25000 [00:33<00:00, 744.02it/s]\n"
     ]
    }
   ],
   "source": [
    "X, y = process_data()"
   ]
  },
  {
   "cell_type": "code",
   "execution_count": 23,
   "id": "dea2a295",
   "metadata": {},
   "outputs": [],
   "source": [
    "X = np.array(X)\n",
    "X = X/255."
   ]
  },
  {
   "cell_type": "code",
   "execution_count": 24,
   "id": "ac39a920",
   "metadata": {},
   "outputs": [],
   "source": [
    "from sklearn.model_selection import train_test_split"
   ]
  },
  {
   "cell_type": "code",
   "execution_count": 25,
   "id": "2d56c30a",
   "metadata": {},
   "outputs": [],
   "source": [
    "X_train, X_test, y_train, y_test = train_test_split(X, y, train_size=(2/3), random_state=0)"
   ]
  },
  {
   "cell_type": "code",
   "execution_count": 26,
   "id": "d3c7058a",
   "metadata": {},
   "outputs": [
    {
     "data": {
      "text/plain": [
       "[1, 0, 0, 0, 0]"
      ]
     },
     "execution_count": 26,
     "metadata": {},
     "output_type": "execute_result"
    }
   ],
   "source": [
    "X_train.shape\n",
    "y_train[:5]"
   ]
  },
  {
   "cell_type": "code",
   "execution_count": 27,
   "id": "28d0076e",
   "metadata": {},
   "outputs": [],
   "source": [
    "from tensorflow.keras import layers, models"
   ]
  },
  {
   "cell_type": "code",
   "execution_count": 11,
   "id": "de0b5e6d",
   "metadata": {},
   "outputs": [
    {
     "data": {
      "text/plain": [
       "(8334, 100, 100, 3)"
      ]
     },
     "execution_count": 11,
     "metadata": {},
     "output_type": "execute_result"
    }
   ],
   "source": [
    "X_test.shape"
   ]
  },
  {
   "cell_type": "code",
   "execution_count": 11,
   "id": "fe2e8b19",
   "metadata": {},
   "outputs": [],
   "source": [
    "ann = models.Sequential([\n",
    "        layers.Flatten(input_shape=(100,100,3)),\n",
    "        layers.Dense(3000, activation='relu'),\n",
    "        layers.Dense(500, activation='relu'),\n",
    "        layers.Dense(125, activation='relu'),\n",
    "        layers.Dense(25, activation='relu'),\n",
    "        layers.Dense(10, activation='softmax')    \n",
    "    ])\n",
    "\n",
    "ann.compile(optimizer='SGD',\n",
    "              loss='sparse_categorical_crossentropy',\n",
    "              metrics=['accuracy'])"
   ]
  },
  {
   "cell_type": "code",
   "execution_count": 66,
   "id": "3a24b976",
   "metadata": {},
   "outputs": [
    {
     "name": "stdout",
     "output_type": "stream",
     "text": [
      "Epoch 1/5\n",
      "521/521 [==============================] - 48s 91ms/step - loss: 0.7898 - accuracy: 0.5042\n",
      "Epoch 2/5\n",
      "521/521 [==============================] - 49s 95ms/step - loss: 0.6788 - accuracy: 0.5847\n",
      "Epoch 3/5\n",
      "521/521 [==============================] - 47s 91ms/step - loss: 0.6642 - accuracy: 0.6021\n",
      "Epoch 4/5\n",
      "521/521 [==============================] - 48s 91ms/step - loss: 0.6507 - accuracy: 0.6156\n",
      "Epoch 5/5\n",
      "521/521 [==============================] - 48s 91ms/step - loss: 0.6487 - accuracy: 0.6293\n"
     ]
    },
    {
     "data": {
      "text/plain": [
       "<tensorflow.python.keras.callbacks.History at 0x2a05f1670>"
      ]
     },
     "execution_count": 66,
     "metadata": {},
     "output_type": "execute_result"
    }
   ],
   "source": [
    "ann.fit(X_train, np.array(y_train), epochs=5)"
   ]
  },
  {
   "cell_type": "code",
   "execution_count": 67,
   "id": "9b8531e5",
   "metadata": {},
   "outputs": [
    {
     "name": "stdout",
     "output_type": "stream",
     "text": [
      "16/16 [==============================] - 13s 784ms/step - loss: 0.6714 - accuracy: 0.5769\n"
     ]
    }
   ],
   "source": [
    "results = ann.evaluate(X_test, np.array(y_test), batch_size=521)"
   ]
  },
  {
   "cell_type": "code",
   "execution_count": 28,
   "id": "d4f48cdd",
   "metadata": {},
   "outputs": [],
   "source": [
    "cnn = models.Sequential([\n",
    "    layers.Conv2D(filters=32, kernel_size=(3, 3), activation='relu', input_shape=(100, 100, 3)),\n",
    "    layers.MaxPooling2D((2, 2)),\n",
    "    \n",
    "    layers.Conv2D(filters=64, kernel_size=(3, 3), activation='relu'),\n",
    "    layers.MaxPooling2D((2, 2)),\n",
    "    \n",
    "    layers.Flatten(),\n",
    "    layers.Dense(64, activation='relu'),\n",
    "    layers.Dense(10, activation='softmax')\n",
    "])\n",
    "cnn.compile(optimizer='adam',\n",
    "              loss='sparse_categorical_crossentropy',\n",
    "              metrics=['accuracy'])"
   ]
  },
  {
   "cell_type": "code",
   "execution_count": 29,
   "id": "9b79bddc",
   "metadata": {},
   "outputs": [
    {
     "name": "stdout",
     "output_type": "stream",
     "text": [
      "Epoch 1/3\n",
      "521/521 [==============================] - 28s 53ms/step - loss: 0.7101 - accuracy: 0.6028\n",
      "Epoch 2/3\n",
      "521/521 [==============================] - 27s 52ms/step - loss: 0.4990 - accuracy: 0.7618\n",
      "Epoch 3/3\n",
      "521/521 [==============================] - 27s 52ms/step - loss: 0.4065 - accuracy: 0.8162\n"
     ]
    },
    {
     "data": {
      "text/plain": [
       "<tensorflow.python.keras.callbacks.History at 0x17acc9a00>"
      ]
     },
     "execution_count": 29,
     "metadata": {},
     "output_type": "execute_result"
    }
   ],
   "source": [
    "cnn.fit(X_train, np.array(y_train), epochs=3)"
   ]
  },
  {
   "cell_type": "code",
   "execution_count": null,
   "id": "c2a00378",
   "metadata": {},
   "outputs": [],
   "source": [
    "cnn_results = cnn.evaluate(X_test, np.array(y_test), batch_size=521, verbose=0)"
   ]
  },
  {
   "cell_type": "code",
   "execution_count": null,
   "id": "731a3433",
   "metadata": {},
   "outputs": [],
   "source": []
  }
 ],
 "metadata": {
  "kernelspec": {
   "display_name": "Python 3",
   "language": "python",
   "name": "python3"
  },
  "language_info": {
   "codemirror_mode": {
    "name": "ipython",
    "version": 3
   },
   "file_extension": ".py",
   "mimetype": "text/x-python",
   "name": "python",
   "nbconvert_exporter": "python",
   "pygments_lexer": "ipython3",
   "version": "3.8.10"
  }
 },
 "nbformat": 4,
 "nbformat_minor": 5
}
